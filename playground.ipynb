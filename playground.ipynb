{
 "cells": [
  {
   "cell_type": "code",
   "execution_count": 1,
   "metadata": {},
   "outputs": [
    {
     "data": {
      "text/plain": [
       "True"
      ]
     },
     "execution_count": 1,
     "metadata": {},
     "output_type": "execute_result"
    }
   ],
   "source": [
    "import dotenv\n",
    "dotenv.load_dotenv()\n",
    "\n",
    "# import os\n",
    "# os.getenv(\"ANTHROPIC_API_KEY\")"
   ]
  },
  {
   "cell_type": "code",
   "execution_count": 2,
   "metadata": {},
   "outputs": [],
   "source": [
    "import getpass\n",
    "import os\n",
    "\n",
    "\n",
    "def _set_env(var: str):\n",
    "    if not os.environ.get(var):\n",
    "        os.environ[var] = getpass.getpass(f\"{var}: \")\n",
    "\n",
    "\n",
    "_set_env(os.getenv(\"ANTHROPIC_API_KEY\"))\n",
    "_set_env(os.getenv(\"TAVILY_API_KEY\"))"
   ]
  },
  {
   "cell_type": "code",
   "execution_count": 3,
   "metadata": {},
   "outputs": [],
   "source": [
    "from typing import Annotated\n",
    "\n",
    "from typing_extensions import TypedDict\n",
    "\n",
    "from langgraph.graph import StateGraph, START, END\n",
    "from langgraph.graph.message import add_messages\n",
    "\n",
    "\n",
    "class State(TypedDict):\n",
    "    # Messages have the type \"list\". The `add_messages` function\n",
    "    # in the annotation defines how this state key should be updated\n",
    "    # (in this case, it appends messages to the list, rather than overwriting them)\n",
    "    messages: Annotated[list, add_messages]\n",
    "\n",
    "\n",
    "graph_builder = StateGraph(State)"
   ]
  },
  {
   "cell_type": "code",
   "execution_count": 4,
   "metadata": {},
   "outputs": [
    {
     "data": {
      "text/plain": [
       "<langgraph.graph.state.StateGraph at 0x10b0562a0>"
      ]
     },
     "execution_count": 4,
     "metadata": {},
     "output_type": "execute_result"
    }
   ],
   "source": [
    "from langchain_anthropic import ChatAnthropic\n",
    "\n",
    "llm = ChatAnthropic(model=\"claude-3-5-sonnet-20240620\")\n",
    "\n",
    "\n",
    "def chatbot(state: State):\n",
    "    return {\"messages\": [llm.invoke(state[\"messages\"])]}\n",
    "\n",
    "\n",
    "# The first argument is the unique node name\n",
    "# The second argument is the function or object that will be called whenever\n",
    "# the node is used.\n",
    "graph_builder.add_node(\"chatbot\", chatbot)"
   ]
  },
  {
   "cell_type": "code",
   "execution_count": 5,
   "metadata": {},
   "outputs": [
    {
     "data": {
      "text/plain": [
       "<langgraph.graph.state.StateGraph at 0x10b0562a0>"
      ]
     },
     "execution_count": 5,
     "metadata": {},
     "output_type": "execute_result"
    }
   ],
   "source": [
    "graph_builder.add_edge(START, \"chatbot\")"
   ]
  },
  {
   "cell_type": "code",
   "execution_count": 6,
   "metadata": {},
   "outputs": [
    {
     "data": {
      "text/plain": [
       "<langgraph.graph.state.StateGraph at 0x10b0562a0>"
      ]
     },
     "execution_count": 6,
     "metadata": {},
     "output_type": "execute_result"
    }
   ],
   "source": [
    "graph_builder.add_edge(\"chatbot\", END)"
   ]
  },
  {
   "cell_type": "code",
   "execution_count": 7,
   "metadata": {},
   "outputs": [],
   "source": [
    "graph = graph_builder.compile()"
   ]
  },
  {
   "cell_type": "code",
   "execution_count": 8,
   "metadata": {},
   "outputs": [
    {
     "data": {
      "image/png": "[encoded data removed]",
      "text/plain": [
       "<IPython.core.display.Image object>"
      ]
     },
     "metadata": {},
     "output_type": "display_data"
    }
   ],
   "source": [
    "from IPython.display import Image, display\n",
    "\n",
    "try:\n",
    "    display(Image(graph.get_graph().draw_mermaid_png()))\n",
    "except Exception:\n",
    "    # This requires some extra dependencies and is optional\n",
    "    pass"
   ]
  },
  {
   "cell_type": "code",
   "execution_count": 9,
   "metadata": {},
   "outputs": [
    {
     "name": "stdout",
     "output_type": "stream",
     "text": [
      "Assistant: Hello! How can I assist you today? Feel free to ask me any questions or let me know if you need help with anything.\n",
      "Goodbye!\n"
     ]
    }
   ],
   "source": [
    "def stream_graph_updates(user_input: str):\n",
    "    for event in graph.stream({\"messages\": [{\"role\": \"user\", \"content\": user_input}]}):\n",
    "        for value in event.values():\n",
    "            print(\"Assistant:\", value[\"messages\"][-1].content)\n",
    "\n",
    "\n",
    "while True:\n",
    "    try:\n",
    "        user_input = input(\"User: \")\n",
    "        if user_input.lower() in [\"quit\", \"exit\", \"q\"]:\n",
    "            print(\"Goodbye!\")\n",
    "            break\n",
    "\n",
    "        stream_graph_updates(user_input)\n",
    "    except:\n",
    "        # fallback if input() is not available\n",
    "        user_input = \"What do you know about LangGraph?\"\n",
    "        print(\"User: \" + user_input)\n",
    "        stream_graph_updates(user_input)\n",
    "        break"
   ]
  },
  {
   "cell_type": "markdown",
   "metadata": {},
   "source": [
    "# Part 2: Enhancing the chatbot with tools"
   ]
  },
  {
   "cell_type": "code",
   "execution_count": 10,
   "metadata": {},
   "outputs": [
    {
     "data": {
      "text/plain": [
       "[{'title': 'LangGraph Quickstart - GitHub Pages',\n",
       "  'url': 'https://langchain-ai.github.io/langgraph/tutorials/introduction/',\n",
       "  'content': 'In LangGraph, nodes are Python functions that take the current state, do some work, and return an updated state. Next, we define the nodes, each representing a',\n",
       "  'score': 0.92995757},\n",
       " {'title': 'A Comprehensive Guide About Langgraph: Code Included - Ionio',\n",
       "  'url': 'https://www.ionio.ai/blog/a-comprehensive-guide-about-langgraph-code-included',\n",
       "  'content': 'A node can be any function or tool your agent uses in langgraph and these nodes are connected with other nodes using edges. Every workflow ends with a “END”',\n",
       "  'score': 0.8872928}]"
      ]
     },
     "execution_count": 10,
     "metadata": {},
     "output_type": "execute_result"
    }
   ],
   "source": [
    "from langchain_community.tools.tavily_search import TavilySearchResults\n",
    "\n",
    "tavily_tool = TavilySearchResults(max_results=2, tavily_api_key=os.getenv(\"TAVIL_API_KEY\"))\n",
    "tools = [tavily_tool]\n",
    "tavily_tool.invoke(\"What's a 'node' in LangGraph?\")"
   ]
  },
  {
   "cell_type": "code",
   "execution_count": 11,
   "metadata": {},
   "outputs": [
    {
     "data": {
      "text/plain": [
       "<langgraph.graph.state.StateGraph at 0x111148cb0>"
      ]
     },
     "execution_count": 11,
     "metadata": {},
     "output_type": "execute_result"
    }
   ],
   "source": [
    "from typing import Annotated\n",
    "\n",
    "from langchain_anthropic import ChatAnthropic\n",
    "from typing_extensions import TypedDict\n",
    "\n",
    "from langgraph.graph import StateGraph, START, END\n",
    "from langgraph.graph.message import add_messages\n",
    "\n",
    "\n",
    "class State(TypedDict):\n",
    "    messages: Annotated[list, add_messages]\n",
    "\n",
    "\n",
    "graph_builder = StateGraph(State)\n",
    "\n",
    "\n",
    "llm = ChatAnthropic(model=\"claude-3-5-sonnet-20240620\")\n",
    "# Modification: tell the LLM which tools it can call\n",
    "llm_with_tools = llm.bind_tools(tools)\n",
    "\n",
    "\n",
    "def chatbot(state: State):\n",
    "    return {\"messages\": [llm_with_tools.invoke(state[\"messages\"])]}\n",
    "\n",
    "\n",
    "graph_builder.add_node(\"chatbot\", chatbot)"
   ]
  },
  {
   "cell_type": "code",
   "execution_count": 12,
   "metadata": {},
   "outputs": [
    {
     "data": {
      "text/plain": [
       "<langgraph.graph.state.StateGraph at 0x111148cb0>"
      ]
     },
     "execution_count": 12,
     "metadata": {},
     "output_type": "execute_result"
    }
   ],
   "source": [
    "import json\n",
    "\n",
    "from langchain_core.messages import ToolMessage\n",
    "\n",
    "\n",
    "class BasicToolNode:\n",
    "    \"\"\"A node that runs the tools requested in the last AIMessage.\"\"\"\n",
    "\n",
    "    def __init__(self, tools: list) -> None:\n",
    "        self.tools_by_name = {tool.name: tool for tool in tools}\n",
    "\n",
    "    def __call__(self, inputs: dict):\n",
    "        if messages := inputs.get(\"messages\", []):\n",
    "            message = messages[-1]\n",
    "        else:\n",
    "            raise ValueError(\"No message found in input\")\n",
    "        outputs = []\n",
    "        for tool_call in message.tool_calls:\n",
    "            tool_result = self.tools_by_name[tool_call[\"name\"]].invoke(\n",
    "                tool_call[\"args\"]\n",
    "            )\n",
    "            outputs.append(\n",
    "                ToolMessage(\n",
    "                    content=json.dumps(tool_result),\n",
    "                    name=tool_call[\"name\"],\n",
    "                    tool_call_id=tool_call[\"id\"],\n",
    "                )\n",
    "            )\n",
    "        return {\"messages\": outputs}\n",
    "\n",
    "\n",
    "tool_node = BasicToolNode(tools=[tavily_tool])\n",
    "graph_builder.add_node(\"tools\", tool_node)"
   ]
  },
  {
   "cell_type": "code",
   "execution_count": 13,
   "metadata": {},
   "outputs": [],
   "source": [
    "def route_tools(\n",
    "    state: State,\n",
    "):\n",
    "    \"\"\"\n",
    "    Use in the conditional_edge to route to the ToolNode if the last message\n",
    "    has tool calls. Otherwise, route to the end.\n",
    "    \"\"\"\n",
    "    if isinstance(state, list):\n",
    "        ai_message = state[-1]\n",
    "    elif messages := state.get(\"messages\", []):\n",
    "        ai_message = messages[-1]\n",
    "    else:\n",
    "        raise ValueError(f\"No messages found in input state to tool_edge: {state}\")\n",
    "    if hasattr(ai_message, \"tool_calls\") and len(ai_message.tool_calls) > 0:\n",
    "        return \"tools\"\n",
    "    return END\n",
    "\n",
    "\n",
    "# The `tools_condition` function returns \"tools\" if the chatbot asks to use a tool, and \"END\" if\n",
    "# it is fine directly responding. This conditional routing defines the main agent loop.\n",
    "graph_builder.add_conditional_edges(\n",
    "    \"chatbot\",\n",
    "    route_tools,\n",
    "    # The following dictionary lets you tell the graph to interpret the condition's outputs as a specific node\n",
    "    # It defaults to the identity function, but if you\n",
    "    # want to use a node named something else apart from \"tools\",\n",
    "    # You can update the value of the dictionary to something else\n",
    "    # e.g., \"tools\": \"my_tools\"\n",
    "    {\"tools\": \"tools\", END: END},\n",
    ")\n",
    "# Any time a tool is called, we return to the chatbot to decide the next step\n",
    "graph_builder.add_edge(\"tools\", \"chatbot\")\n",
    "graph_builder.add_edge(START, \"chatbot\")\n",
    "graph = graph_builder.compile()"
   ]
  },
  {
   "cell_type": "code",
   "execution_count": 14,
   "metadata": {},
   "outputs": [
    {
     "data": {
      "image/png": "[encoded data removed]",
      "text/plain": [
       "<IPython.core.display.Image object>"
      ]
     },
     "metadata": {},
     "output_type": "display_data"
    }
   ],
   "source": [
    "from IPython.display import Image, display\n",
    "\n",
    "try:\n",
    "    display(Image(graph.get_graph().draw_mermaid_png()))\n",
    "except Exception:\n",
    "    # This requires some extra dependencies and is optional\n",
    "    pass"
   ]
  },
  {
   "cell_type": "code",
   "execution_count": 15,
   "metadata": {},
   "outputs": [
    {
     "name": "stdout",
     "output_type": "stream",
     "text": [
      "Assistant: Hello! How can I assist you today? I'm here to help with any questions or tasks you may have.\n",
      "Assistant: [{'text': \"To get the latest information about Elon Musk, I'll need to use the search function to find current news. Let me do that for you.\", 'type': 'text'}, {'id': 'toolu_01F6SL8zYiQwxTCgsfu7kT6p', 'input': {'query': 'Elon Musk latest news'}, 'name': 'tavily_search_results_json', 'type': 'tool_use'}]\n",
      "Assistant: [{\"title\": \"Elon Musk News | Today's Latest Stories - Reuters\", \"url\": \"https://www.reuters.com/business/elon-musk/\", \"content\": \"India's telecom regulator plans to recommend that satellite broadband spectrum be allotted for around five years to assess initial market adoption, defying Elon Musk's Starlink, which is seeking a 20-year permit, said a senior government source. President Donald Trump said on Tuesday he will label violence against Tesla dealerships domestic terrorism as he appeared with Tesla CEO Elon Musk to show support amid recent \\\"Tesla Takedown\\\" protests and the slump in the company's stock price. U.S. Secretary of State Marco Rubio and billionaire White House adviser Elon Musk clashed on Thursday during a Cabinet meeting, as President Donald Trump watched, over the level of staff cuts that Rubio has carried out, the New York Times reported. Reuters News Agency, opens new tab\", \"score\": 0.78532547}, {\"title\": \"Elon Musk | The Guardian\", \"url\": \"https://www.theguardian.com/technology/elon-musk\", \"content\": \"Federal workers fear Musk\\u2019s \\u2018efficiency\\u2019 agency is using AI to spy on them: \\u2018They are omnipresent\\u2019\\nApr 10 2025 07.00 EDT\\n\\n\\n\\n\\nElon Musk boosting influencer who platforms far-right Putin allies\\nApr 10 2025 07.00 EDT\\n\\n\\n9 April 2025 ------------\\n\\n\\n\\n\\nElon Musk\\u2019s xAI powering its facility in Memphis with \\u2018illegal\\u2019 generators\\nApr 9 2025 21.07 EDT\\n\\n\\n\\n\\nUS senator introduces conflict of interest bill aimed at Elon Musk\\nApr 9 2025 12.44 EDT [...] Fighting Back\\nThe power and pitfalls of protest: how to speak out without falling victim to Trump\\u2019s playbook\\nJonathan Smucker\\nApr 11 2025 06.00 EDT\\n\\n\\n\\n\\nOpenAI countersues Elon Musk over \\u2018unlawful harassment\\u2019 of company\\nApr 11 2025 05.35 EDT\\n\\n\\n10 April 2025 -------------\\n\\n\\n\\n\\nSledgehammer-wielding Musk critics smash up Tesla in London art project\\nApr 10 2025 15.32 EDT\\n\\n\\n\\n\\nAmazon\\u2019s satellite launch designed to compete with Musk\\u2019s Starlink cancelled\\nApr 10 2025 11.24 EDT [...] The big idea\\nThe big idea: will sci-fi end up destroying the world?\\nSkewed interpretations of classic works are feeding the dark visions of tech moguls, from Musk to Thiel\\n07.30 EDT\\u2026 \\u2026 comments\\n\\n\\n13 April 2025 -------------\\n\\n\\n\\n\\nTrump adviser Peter Navarro says \\u2018we\\u2019re great\\u2019 after Elon Musk calls him \\u2018moron\\u2019\\nApr 13 2025 12.05 EDT\\n\\n\\n\\n\\n\\u2018Bureaucratic cruelty\\u2019: 9/11 responders and survivors shaken by US health cuts\\nApr 13 2025 08.00 EDT\", \"score\": 0.76173395}]\n",
      "Assistant: Based on the search results, I can provide you with some of the latest news about Elon Musk. Here are the key points:\n",
      "\n",
      "1. Regulatory Issues in India:\n",
      "   India's telecom regulator is planning to recommend satellite broadband spectrum allotment for about five years to assess market adoption. This goes against Elon Musk's Starlink, which is seeking a 20-year permit.\n",
      "\n",
      "2. Political Developments:\n",
      "   - President Donald Trump has stated he will label violence against Tesla dealerships as domestic terrorism. He appeared with Elon Musk to show support amid recent \"Tesla Takedown\" protests and the company's stock price slump.\n",
      "   - There was a reported clash between U.S. Secretary of State Marco Rubio and Elon Musk during a Cabinet meeting, observed by President Trump. The disagreement was over staff cuts implemented by Rubio.\n",
      "\n",
      "3. AI and Privacy Concerns:\n",
      "   There are fears among federal workers that Musk's 'efficiency' agency is using AI to spy on them, with some describing the technology as \"omnipresent.\"\n",
      "\n",
      "4. Social Media Influence:\n",
      "   Elon Musk is reportedly boosting an influencer who platforms far-right Putin allies.\n",
      "\n",
      "5. Environmental Issues:\n",
      "   Musk's xAI company is allegedly powering its facility in Memphis with 'illegal' generators.\n",
      "\n",
      "6. Legal Matters:\n",
      "   - A U.S. senator has introduced a conflict of interest bill aimed at Elon Musk.\n",
      "   - OpenAI has countersued Elon Musk over what they claim is 'unlawful harassment' of the company.\n",
      "\n",
      "7. Protests and Art:\n",
      "   In London, there was an art project where sledgehammer-wielding Musk critics smashed up a Tesla.\n",
      "\n",
      "8. Competition in Space:\n",
      "   Amazon's satellite launch, designed to compete with Musk's Starlink, was cancelled.\n",
      "\n",
      "9. Political Commentary:\n",
      "   Trump adviser Peter Navarro responded to Elon Musk calling him a 'moron' by saying \"we're great.\"\n",
      "\n",
      "These events span various aspects of Musk's involvement in technology, politics, and business, showcasing his continued prominence in public discourse and the controversies surrounding his ventures.\n",
      "Goodbye!\n"
     ]
    }
   ],
   "source": [
    "while True:\n",
    "    try:\n",
    "        user_input = input(\"User: \")\n",
    "        if user_input.lower() in [\"quit\", \"exit\", \"q\"]:\n",
    "            print(\"Goodbye!\")\n",
    "            break\n",
    "\n",
    "        stream_graph_updates(user_input)\n",
    "    except:\n",
    "        # fallback if input() is not available\n",
    "        user_input = \"What do you know about LangGraph?\"\n",
    "        print(\"User: \" + user_input)\n",
    "        stream_graph_updates(user_input)\n",
    "        break"
   ]
  },
  {
   "cell_type": "markdown",
   "metadata": {},
   "source": [
    "# Memory via checkpointing"
   ]
  },
  {
   "cell_type": "code",
   "execution_count": 16,
   "metadata": {},
   "outputs": [],
   "source": [
    "from langgraph.checkpoint.memory import MemorySaver\n",
    "\n",
    "memory = MemorySaver()"
   ]
  },
  {
   "cell_type": "code",
   "execution_count": 17,
   "metadata": {},
   "outputs": [],
   "source": [
    "graph = graph_builder.compile(checkpointer=memory)"
   ]
  },
  {
   "cell_type": "code",
   "execution_count": 46,
   "metadata": {},
   "outputs": [],
   "source": [
    "from IPython.display import Image, display\n",
    "\n",
    "try:\n",
    "    display(Image(graph.get_graph().draw_mermaid_png()))\n",
    "except Exception:\n",
    "    # This requires some extra dependencies and is optional\n",
    "    pass"
   ]
  },
  {
   "cell_type": "code",
   "execution_count": 19,
   "metadata": {},
   "outputs": [],
   "source": [
    "config = {\"configurable\": {\"thread_id\": \"1\"}}"
   ]
  },
  {
   "cell_type": "code",
   "execution_count": 20,
   "metadata": {},
   "outputs": [
    {
     "name": "stdout",
     "output_type": "stream",
     "text": [
      "================================\u001b[1m Human Message \u001b[0m=================================\n",
      "\n",
      "Hi there! My name is Ethan.\n",
      "==================================\u001b[1m Ai Message \u001b[0m==================================\n",
      "\n",
      "Hello Ethan! It's nice to meet you. How can I assist you today? Is there anything specific you'd like to know or discuss?\n"
     ]
    }
   ],
   "source": [
    "user_input = \"Hi there! My name is Ethan.\"\n",
    "\n",
    "# The config is the **second positional argument** to stream() or invoke()!\n",
    "events = graph.stream(\n",
    "    {\"messages\": [{\"role\": \"user\", \"content\": user_input}]},\n",
    "    config,\n",
    "    stream_mode=\"values\",\n",
    ")\n",
    "for event in events:\n",
    "    event[\"messages\"][-1].pretty_print()\n"
   ]
  },
  {
   "cell_type": "code",
   "execution_count": 21,
   "metadata": {},
   "outputs": [
    {
     "name": "stdout",
     "output_type": "stream",
     "text": [
      "================================\u001b[1m Human Message \u001b[0m=================================\n",
      "\n",
      "Remember my name?\n",
      "==================================\u001b[1m Ai Message \u001b[0m==================================\n",
      "\n",
      "Of course, Ethan! I remember that you introduced yourself as Ethan. Is there anything in particular you'd like to talk about or any questions you have? I'm here to help with a wide range of topics or tasks.\n"
     ]
    }
   ],
   "source": [
    "user_input = \"Remember my name?\"\n",
    "\n",
    "# The config is the **second positional argument** to stream() or invoke()!\n",
    "events = graph.stream(\n",
    "    {\"messages\": [{\"role\": \"user\", \"content\": user_input}]},\n",
    "    config,\n",
    "    stream_mode=\"values\",\n",
    ")\n",
    "for event in events:\n",
    "    event[\"messages\"][-1].pretty_print()"
   ]
  },
  {
   "cell_type": "code",
   "execution_count": 22,
   "metadata": {},
   "outputs": [
    {
     "name": "stdout",
     "output_type": "stream",
     "text": [
      "================================\u001b[1m Human Message \u001b[0m=================================\n",
      "\n",
      "Remember my name?\n",
      "==================================\u001b[1m Ai Message \u001b[0m==================================\n",
      "\n",
      "I apologize, but I don't have any prior context or memory of your name. As an AI assistant, I start each conversation fresh without retaining information from previous interactions. Is there something specific you'd like me to call you for this conversation?\n"
     ]
    }
   ],
   "source": [
    "# The only difference is we change the `thread_id` here to \"2\" instead of \"1\"\n",
    "events = graph.stream(\n",
    "    {\"messages\": [{\"role\": \"user\", \"content\": user_input}]},\n",
    "    {\"configurable\": {\"thread_id\": \"2\"}},\n",
    "    stream_mode=\"values\",\n",
    ")\n",
    "for event in events:\n",
    "    event[\"messages\"][-1].pretty_print()"
   ]
  },
  {
   "cell_type": "code",
   "execution_count": 23,
   "metadata": {},
   "outputs": [
    {
     "data": {
      "text/plain": [
       "StateSnapshot(values={'messages': [HumanMessage(content='Hi there! My name is Ethan.', additional_kwargs={}, response_metadata={}, id='e9ce2c06-37d7-4753-b5a7-90fc3f6a043b'), AIMessage(content=\"Hello Ethan! It's nice to meet you. How can I assist you today? Is there anything specific you'd like to know or discuss?\", additional_kwargs={}, response_metadata={'id': 'msg_01W1imbKaMAJud73Z6TLuJja', 'model': 'claude-3-5-sonnet-20240620', 'stop_reason': 'end_turn', 'stop_sequence': None, 'usage': {'cache_creation_input_tokens': 0, 'cache_read_input_tokens': 0, 'input_tokens': 407, 'output_tokens': 34}, 'model_name': 'claude-3-5-sonnet-20240620'}, id='run-2c1285e8-c70c-4dfe-9c07-1078122c2270-0', usage_metadata={'input_tokens': 407, 'output_tokens': 34, 'total_tokens': 441, 'input_token_details': {'cache_creation': 0, 'cache_read': 0}}), HumanMessage(content='Remember my name?', additional_kwargs={}, response_metadata={}, id='559c45e0-6cb7-41e4-9ca3-192bd2342920'), AIMessage(content=\"Of course, Ethan! I remember that you introduced yourself as Ethan. Is there anything in particular you'd like to talk about or any questions you have? I'm here to help with a wide range of topics or tasks.\", additional_kwargs={}, response_metadata={'id': 'msg_01HubidMBEmWsc8egMsRbQNc', 'model': 'claude-3-5-sonnet-20240620', 'stop_reason': 'end_turn', 'stop_sequence': None, 'usage': {'cache_creation_input_tokens': 0, 'cache_read_input_tokens': 0, 'input_tokens': 448, 'output_tokens': 52}, 'model_name': 'claude-3-5-sonnet-20240620'}, id='run-92f2e366-4c10-4bd3-ba11-0729f2f28b71-0', usage_metadata={'input_tokens': 448, 'output_tokens': 52, 'total_tokens': 500, 'input_token_details': {'cache_creation': 0, 'cache_read': 0}})]}, next=(), config={'configurable': {'thread_id': '1', 'checkpoint_ns': '', 'checkpoint_id': '1f017476-5069-6144-8004-e22828466f89'}}, metadata={'source': 'loop', 'writes': {'chatbot': {'messages': [AIMessage(content=\"Of course, Ethan! I remember that you introduced yourself as Ethan. Is there anything in particular you'd like to talk about or any questions you have? I'm here to help with a wide range of topics or tasks.\", additional_kwargs={}, response_metadata={'id': 'msg_01HubidMBEmWsc8egMsRbQNc', 'model': 'claude-3-5-sonnet-20240620', 'stop_reason': 'end_turn', 'stop_sequence': None, 'usage': {'cache_creation_input_tokens': 0, 'cache_read_input_tokens': 0, 'input_tokens': 448, 'output_tokens': 52}, 'model_name': 'claude-3-5-sonnet-20240620'}, id='run-92f2e366-4c10-4bd3-ba11-0729f2f28b71-0', usage_metadata={'input_tokens': 448, 'output_tokens': 52, 'total_tokens': 500, 'input_token_details': {'cache_creation': 0, 'cache_read': 0}})]}}, 'thread_id': '1', 'step': 4, 'parents': {}}, created_at='2025-04-12T02:39:45.353111+00:00', parent_config={'configurable': {'thread_id': '1', 'checkpoint_ns': '', 'checkpoint_id': '1f017476-4365-63a8-8003-70430de82ea0'}}, tasks=())"
      ]
     },
     "execution_count": 23,
     "metadata": {},
     "output_type": "execute_result"
    }
   ],
   "source": [
    "snapshot=graph.get_state(config)\n",
    "snapshot"
   ]
  },
  {
   "cell_type": "code",
   "execution_count": 24,
   "metadata": {},
   "outputs": [
    {
     "data": {
      "text/plain": [
       "()"
      ]
     },
     "execution_count": 24,
     "metadata": {},
     "output_type": "execute_result"
    }
   ],
   "source": [
    "snapshot.next"
   ]
  },
  {
   "cell_type": "markdown",
   "metadata": {},
   "source": [
    "# Human in the loop"
   ]
  },
  {
   "cell_type": "code",
   "execution_count": 1,
   "metadata": {},
   "outputs": [],
   "source": [
    "from langgraph.types import Command, interrupt"
   ]
  },
  {
   "cell_type": "code",
   "execution_count": 2,
   "metadata": {},
   "outputs": [],
   "source": [
    "from langgraph.graph import StateGraph\n",
    "from typing import Annotated\n",
    "from typing_extensions import TypedDict\n",
    "from langgraph.graph.message import add_messages\n",
    "\n",
    "class State(TypedDict):\n",
    "    messages: Annotated[list, add_messages]\n",
    "\n",
    "graph_builder = StateGraph(State)"
   ]
  },
  {
   "cell_type": "code",
   "execution_count": 3,
   "metadata": {},
   "outputs": [
    {
     "data": {
      "text/plain": [
       "<langgraph.graph.state.StateGraph at 0x108d208f0>"
      ]
     },
     "execution_count": 3,
     "metadata": {},
     "output_type": "execute_result"
    }
   ],
   "source": [
    "def chatbot(state: State):\n",
    "    message = llm_with_tools.invoke(state[\"messages\"])\n",
    "    assert(len(message.tool_calls) <= 1)\n",
    "    return {\"messages\": [message]}\n",
    "    \n",
    "graph_builder.add_node(\"chatbot\", chatbot)"
   ]
  },
  {
   "cell_type": "code",
   "execution_count": 4,
   "metadata": {},
   "outputs": [],
   "source": [
    "from langchain_core.tools import tool\n",
    "\n",
    "@tool\n",
    "def human_assistance(query: str) -> str:\n",
    "    \"\"\"Request assistance from a human.\"\"\"\n",
    "    human_response = interrupt({\"query\": query})\n",
    "    return human_response[\"data\"]\n",
    "    "
   ]
  },
  {
   "cell_type": "code",
   "execution_count": 5,
   "metadata": {},
   "outputs": [
    {
     "data": {
      "text/plain": [
       "<langgraph.graph.state.StateGraph at 0x108d208f0>"
      ]
     },
     "execution_count": 5,
     "metadata": {},
     "output_type": "execute_result"
    }
   ],
   "source": [
    "from langgraph.prebuilt import ToolNode, tools_condition\n",
    "from langgraph.graph import START\n",
    "from langchain_community.tools.tavily_search import TavilySearchResults\n",
    "\n",
    "from langchain_anthropic import ChatAnthropic\n",
    "\n",
    "tavily_tool = TavilySearchResults(max_results=2)\n",
    "tools = [tavily_tool, human_assistance]\n",
    "tool_node = ToolNode(tools=tools)\n",
    "graph_builder.add_node(\"tools\", tool_node)\n",
    "\n",
    "llm = ChatAnthropic(model=\"claude-3-haiku-20240307\")\n",
    "llm_with_tools = llm.bind_tools(tools)\n",
    "\n",
    "\n",
    "graph_builder.add_edge(START, \"chatbot\")\n",
    "graph_builder.add_edge(\"tools\", \"chatbot\")\n",
    "\n",
    "graph_builder.add_conditional_edges(\n",
    "    \"chatbot\",\n",
    "    tools_condition,\n",
    ")\n",
    "    "
   ]
  },
  {
   "cell_type": "code",
   "execution_count": 7,
   "metadata": {},
   "outputs": [],
   "source": [
    "from langgraph.checkpoint.memory import MemorySaver\n",
    "memory = MemorySaver()\n",
    "graph = graph_builder.compile(checkpointer=memory)"
   ]
  },
  {
   "cell_type": "code",
   "execution_count": 8,
   "metadata": {},
   "outputs": [
    {
     "data": {
      "image/png": "[encoded data removed]",
      "text/plain": [
       "<IPython.core.display.Image object>"
      ]
     },
     "metadata": {},
     "output_type": "display_data"
    }
   ],
   "source": [
    "from IPython.display import Image, display\n",
    "\n",
    "try:\n",
    "    display(Image(graph.get_graph().draw_mermaid_png()))\n",
    "except Exception:\n",
    "    # This requires some extra dependencies and is optional\n",
    "    pass"
   ]
  },
  {
   "cell_type": "code",
   "execution_count": 9,
   "metadata": {},
   "outputs": [
    {
     "name": "stdout",
     "output_type": "stream",
     "text": [
      "================================\u001b[1m Human Message \u001b[0m=================================\n",
      "\n",
      "I need some expert guidance for building an AI agent. Could you request assistance for me?\n",
      "==================================\u001b[1m Ai Message \u001b[0m==================================\n",
      "\n",
      "[{'id': 'toolu_01UMVfcMCgkVNRBHrJsJAruX', 'input': {'query': 'I need expert guidance for building an AI agent.'}, 'name': 'human_assistance', 'type': 'tool_use'}]\n",
      "Tool Calls:\n",
      "  human_assistance (toolu_01UMVfcMCgkVNRBHrJsJAruX)\n",
      " Call ID: toolu_01UMVfcMCgkVNRBHrJsJAruX\n",
      "  Args:\n",
      "    query: I need expert guidance for building an AI agent.\n"
     ]
    }
   ],
   "source": [
    "user_input = \"I need some expert guidance for building an AI agent. Could you request assistance for me?\"\n",
    "config = {\"configurable\": {\"thread_id\": \"1\"}}\n",
    "\n",
    "events = graph.stream(\n",
    "    {\"messages\": [{\"role\": \"user\", \"content\": user_input}]},\n",
    "    config,\n",
    "    stream_mode=\"values\",\n",
    ")\n",
    "for event in events:\n",
    "    if \"messages\" in event:\n",
    "        event[\"messages\"][-1].pretty_print()"
   ]
  },
  {
   "cell_type": "code",
   "execution_count": 10,
   "metadata": {},
   "outputs": [
    {
     "data": {
      "text/plain": [
       "('tools',)"
      ]
     },
     "execution_count": 10,
     "metadata": {},
     "output_type": "execute_result"
    }
   ],
   "source": [
    "snapshot = graph.get_state(config)\n",
    "snapshot.next"
   ]
  },
  {
   "cell_type": "code",
   "execution_count": 11,
   "metadata": {},
   "outputs": [
    {
     "name": "stdout",
     "output_type": "stream",
     "text": [
      "==================================\u001b[1m Ai Message \u001b[0m==================================\n",
      "\n",
      "[{'id': 'toolu_01UMVfcMCgkVNRBHrJsJAruX', 'input': {'query': 'I need expert guidance for building an AI agent.'}, 'name': 'human_assistance', 'type': 'tool_use'}]\n",
      "Tool Calls:\n",
      "  human_assistance (toolu_01UMVfcMCgkVNRBHrJsJAruX)\n",
      " Call ID: toolu_01UMVfcMCgkVNRBHrJsJAruX\n",
      "  Args:\n",
      "    query: I need expert guidance for building an AI agent.\n",
      "=================================\u001b[1m Tool Message \u001b[0m=================================\n",
      "Name: human_assistance\n",
      "\n",
      "We, the experts are here to help! We'd recommend you check out LangGraph to build your agent. It's much more reliable and extensible than simple autonomous agents.\n",
      "==================================\u001b[1m Ai Message \u001b[0m==================================\n",
      "\n",
      "Does this help provide the expert guidance you were looking for? Let me know if you have any other questions - I'm happy to assist further or request additional help from the human experts if needed.\n"
     ]
    }
   ],
   "source": [
    "human_response = (\n",
    "    \"We, the experts are here to help! We'd recommend you check out LangGraph to build your agent.\"\n",
    "    \" It's much more reliable and extensible than simple autonomous agents.\"\n",
    ")\n",
    "\n",
    "human_command = Command(resume={\"data\": human_response})\n",
    "\n",
    "events = graph.stream(human_command, config, stream_mode=\"values\")\n",
    "for event in events:\n",
    "    if \"messages\" in event:\n",
    "        event[\"messages\"][-1].pretty_print()"
   ]
  },
  {
   "cell_type": "markdown",
   "metadata": {},
   "source": [
    "# Advanced State"
   ]
  },
  {
   "cell_type": "code",
   "execution_count": 1,
   "metadata": {},
   "outputs": [],
   "source": [
    "from typing import Annotated\n",
    "from typing_extensions import TypedDict\n",
    "\n",
    "from langgraph.graph.message import add_messages\n",
    "\n",
    "class State(TypedDict):\n",
    "    messages: Annotated[list, add_messages]\n",
    "    name: str\n",
    "    birthday: str"
   ]
  },
  {
   "cell_type": "code",
   "execution_count": 13,
   "metadata": {},
   "outputs": [],
   "source": [
    "from langchain_core.messages import ToolMessage\n",
    "from langchain_core.tools import InjectedToolCallId, tool\n",
    "\n",
    "from langgraph.types import Command, interrupt\n",
    "\n",
    "@tool\n",
    "def human_assistance(name: str, birthday: str, tool_call_id: Annotated[str, InjectedToolCallId]) -> str:\n",
    "    \"\"\"Request assistance from a human.\"\"\"\n",
    "    human_response = interrupt(\n",
    "\t\t{\n",
    "\t\t\t\"question\": \"Is this correct?\",\n",
    "\t\t\t\"name\": name,\n",
    "\t\t\t\"birthday\": birthday\n",
    "\t\t}\n",
    "\t)\n",
    "    \n",
    "    if human_response.get('correct', '').lower().startswith('y'):\n",
    "        verified_name = name\n",
    "        verified_birthday = birthday\n",
    "        response = 'Correct'\n",
    "        \n",
    "    else:\n",
    "        verified_name = human_response.get('name', name)\n",
    "        verified_birthday = human_response.get('birthday', birthday)\n",
    "        response = f\"Made a correction: {human_response}\"\n",
    "        \n",
    "    state_update = {\n",
    "\t\t'name': verified_name,\n",
    "\t\t'birthday': verified_birthday,\n",
    "\t\t'messages': [ToolMessage(content=response, tool_call_id=tool_call_id)]\n",
    "\t}\n",
    "    \n",
    "    return Command(update=state_update)"
   ]
  },
  {
   "cell_type": "code",
   "execution_count": 14,
   "metadata": {},
   "outputs": [],
   "source": [
    "from langchain_anthropic import ChatAnthropic\n",
    "from langchain_community.tools.tavily_search import TavilySearchResults\n",
    "\n",
    "from langgraph.checkpoint.memory import MemorySaver\n",
    "from langgraph.graph import StateGraph, START, END\n",
    "from langgraph.prebuilt import ToolNode, tools_condition\n",
    "\n",
    "\n",
    "tool = TavilySearchResults(max_results=2)\n",
    "tools = [tool, human_assistance]\n",
    "llm = ChatAnthropic(model=\"claude-3-5-sonnet-20240620\")\n",
    "llm_with_tools = llm.bind_tools(tools)\n",
    "\n",
    "\n",
    "def chatbot(state: State):\n",
    "    message = llm_with_tools.invoke(state[\"messages\"])\n",
    "    assert len(message.tool_calls) <= 1\n",
    "    return {\"messages\": [message]}\n",
    "\n",
    "\n",
    "graph_builder = StateGraph(State)\n",
    "graph_builder.add_node(\"chatbot\", chatbot)\n",
    "\n",
    "tool_node = ToolNode(tools=tools)\n",
    "graph_builder.add_node(\"tools\", tool_node)\n",
    "\n",
    "graph_builder.add_conditional_edges(\n",
    "    \"chatbot\",\n",
    "    tools_condition,\n",
    ")\n",
    "graph_builder.add_edge(\"tools\", \"chatbot\")\n",
    "graph_builder.add_edge(START, \"chatbot\")\n",
    "\n",
    "memory = MemorySaver()\n",
    "graph = graph_builder.compile(checkpointer=memory)"
   ]
  },
  {
   "cell_type": "code",
   "execution_count": 15,
   "metadata": {},
   "outputs": [
    {
     "name": "stdout",
     "output_type": "stream",
     "text": [
      "================================\u001b[1m Human Message \u001b[0m=================================\n",
      "\n",
      "Can you look up when LangGraph was released? When you have the answer, use the human_assistance tool for review.\n",
      "==================================\u001b[1m Ai Message \u001b[0m==================================\n",
      "\n",
      "[{'text': \"Certainly! I'll start by searching for information about LangGraph's release date using the Tavily search function. Then, I'll use the human_assistance tool for review as you requested.\\n\\nLet's begin with the search:\", 'type': 'text'}, {'id': 'toolu_01WtieWMWbuKqjzfy151xU1y', 'input': {'query': 'LangGraph release date'}, 'name': 'tavily_search_results_json', 'type': 'tool_use'}]\n",
      "Tool Calls:\n",
      "  tavily_search_results_json (toolu_01WtieWMWbuKqjzfy151xU1y)\n",
      " Call ID: toolu_01WtieWMWbuKqjzfy151xU1y\n",
      "  Args:\n",
      "    query: LangGraph release date\n",
      "=================================\u001b[1m Tool Message \u001b[0m=================================\n",
      "Name: tavily_search_results_json\n",
      "\n",
      "[{\"title\": \"Announcing LangGraph v0.1 & LangGraph Cloud: Running agents ...\", \"url\": \"https://blog.langchain.dev/langgraph-cloud/\", \"content\": \"We also have a new stable release of LangGraph. By LangChain 6 min read Jun 27, 2024. (Oct '24) Edit: Since the launch of LangGraph Cloud, we\", \"score\": 0.83932644}, {\"title\": \"LangGraph 0.3: Pre-built agents - LangChain - Changelog\", \"url\": \"https://changelog.langchain.com/announcements/langgraph-0-3-pre-built-agents\", \"content\": \"LangGraph 0.3: Pre-built agents. DATE: March 1, 2025 ... That's why we're launching LangGraph pre-built agents as part of our 0.3 release!\", \"score\": 0.81875163}]\n",
      "==================================\u001b[1m Ai Message \u001b[0m==================================\n",
      "\n",
      "[{'text': \"Based on the search results, it appears that LangGraph has had multiple releases. The earliest mention I can find is about LangGraph v0.1, which was announced in a blog post dated June 27, 2024. However, it's important to note that this information might not be entirely accurate or up-to-date, as the search results seem to include future dates (which is likely an error in the data).\\n\\nTo get a more accurate review of this information, let's use the human_assistance tool as you requested. For this, we need to provide a name and birthday. Since we don't have specific information for these fields, I'll use placeholder values that indicate we're asking about LangGraph.\", 'type': 'text'}, {'id': 'toolu_019zEoj8BNu3XDcBhgnSrSgD', 'input': {'name': 'LangGraph', 'birthday': '2024-06-27'}, 'name': 'human_assistance', 'type': 'tool_use'}]\n",
      "Tool Calls:\n",
      "  human_assistance (toolu_019zEoj8BNu3XDcBhgnSrSgD)\n",
      " Call ID: toolu_019zEoj8BNu3XDcBhgnSrSgD\n",
      "  Args:\n",
      "    name: LangGraph\n",
      "    birthday: 2024-06-27\n"
     ]
    }
   ],
   "source": [
    "user_input = (\n",
    "    \"Can you look up when LangGraph was released? \"\n",
    "    \"When you have the answer, use the human_assistance tool for review.\"\n",
    ")\n",
    "config = {\"configurable\": {\"thread_id\": \"1\"}}\n",
    "\n",
    "events = graph.stream(\n",
    "    {\"messages\": [{\"role\": \"user\", \"content\": user_input}]},\n",
    "    config,\n",
    "    stream_mode=\"values\",\n",
    ")\n",
    "for event in events:\n",
    "    if \"messages\" in event:\n",
    "        event[\"messages\"][-1].pretty_print()"
   ]
  },
  {
   "cell_type": "code",
   "execution_count": 16,
   "metadata": {},
   "outputs": [
    {
     "name": "stdout",
     "output_type": "stream",
     "text": [
      "==================================\u001b[1m Ai Message \u001b[0m==================================\n",
      "\n",
      "[{'text': \"Based on the search results, it appears that LangGraph has had multiple releases. The earliest mention I can find is about LangGraph v0.1, which was announced in a blog post dated June 27, 2024. However, it's important to note that this information might not be entirely accurate or up-to-date, as the search results seem to include future dates (which is likely an error in the data).\\n\\nTo get a more accurate review of this information, let's use the human_assistance tool as you requested. For this, we need to provide a name and birthday. Since we don't have specific information for these fields, I'll use placeholder values that indicate we're asking about LangGraph.\", 'type': 'text'}, {'id': 'toolu_019zEoj8BNu3XDcBhgnSrSgD', 'input': {'name': 'LangGraph', 'birthday': '2024-06-27'}, 'name': 'human_assistance', 'type': 'tool_use'}]\n",
      "Tool Calls:\n",
      "  human_assistance (toolu_019zEoj8BNu3XDcBhgnSrSgD)\n",
      " Call ID: toolu_019zEoj8BNu3XDcBhgnSrSgD\n",
      "  Args:\n",
      "    name: LangGraph\n",
      "    birthday: 2024-06-27\n",
      "=================================\u001b[1m Tool Message \u001b[0m=================================\n",
      "Name: human_assistance\n",
      "\n",
      "Made a correction: {'name': 'LangGraph', 'birthday': 'Jan 17, 2024'}\n",
      "==================================\u001b[1m Ai Message \u001b[0m==================================\n",
      "\n",
      "Thank you for the human assistance. It appears there was indeed an error in the search results. The human assistance has provided a correction:\n",
      "\n",
      "LangGraph was actually released on January 17, 2024, not June 27, 2024 as initially found in the search results.\n",
      "\n",
      "To summarize:\n",
      "LangGraph was released on January 17, 2024. This information has been verified through human assistance, which corrected the initial date we found through the search function. The discrepancy highlights the importance of verifying information, especially when dealing with recent or rapidly evolving technologies.\n"
     ]
    }
   ],
   "source": [
    "# The above execution stops at the interrupt where the agent is asking the human to review the name and date that it found for langgraph's birthday.\n",
    "# We'll provide our review here:\n",
    "human_command = Command(\n",
    "    resume={\n",
    "        \"name\": \"LangGraph\",\n",
    "        \"birthday\": \"Jan 17, 2024\",\n",
    "    },\n",
    ")\n",
    "\n",
    "events = graph.stream(human_command, config, stream_mode=\"values\")\n",
    "for event in events:\n",
    "    if \"messages\" in event:\n",
    "        event[\"messages\"][-1].pretty_print()"
   ]
  },
  {
   "cell_type": "code",
   "execution_count": null,
   "metadata": {},
   "outputs": [
    {
     "data": {
      "text/plain": [
       "{'name': 'LangGraph', 'birthday': 'Jan 17, 2024'}"
      ]
     },
     "execution_count": 29,
     "metadata": {},
     "output_type": "execute_result"
    }
   ],
   "source": [
    "# We can verify that these new dates are reflected in the state.\n",
    "\n",
    "snapshot = graph.get_state(config={\"configurable\": {\"thread_id\": \"1\"}})\n",
    "{k:v for k,v in snapshot.values.items() if k in ('name', 'birthday')}"
   ]
  },
  {
   "cell_type": "code",
   "execution_count": 30,
   "metadata": {},
   "outputs": [
    {
     "data": {
      "text/plain": [
       "{'configurable': {'thread_id': '1',\n",
       "  'checkpoint_ns': '',\n",
       "  'checkpoint_id': '1f01964b-94c9-68e2-8006-8f8a9e10a3cd'}}"
      ]
     },
     "execution_count": 30,
     "metadata": {},
     "output_type": "execute_result"
    }
   ],
   "source": [
    "# We can also update these values directly from outside the graph execution runtime\n",
    "graph.update_state(config={\"configurable\": {\"thread_id\": \"1\"}},\n",
    "                   values={\n",
    "                       \"name\": \"LangGraph (library)\",\n",
    "                       \"birthday\": \"Jan 17, 2024\"\n",
    "                   })\n"
   ]
  },
  {
   "cell_type": "code",
   "execution_count": 32,
   "metadata": {},
   "outputs": [
    {
     "data": {
      "text/plain": [
       "{'name': 'LangGraph (library)', 'birthday': 'Jan 17, 2024'}"
      ]
     },
     "execution_count": 32,
     "metadata": {},
     "output_type": "execute_result"
    }
   ],
   "source": [
    "# And then check again to verify the change took place\n",
    "snapshot = graph.get_state(config={\"configurable\": {\"thread_id\": \"1\"}})\n",
    "{k:v for k,v in snapshot.values.items() if k in ('name', 'birthday')}"
   ]
  },
  {
   "cell_type": "markdown",
   "metadata": {},
   "source": [
    "# Time Travel"
   ]
  },
  {
   "cell_type": "code",
   "execution_count": 34,
   "metadata": {},
   "outputs": [],
   "source": [
    "# Using the simple chatbot with tools from part 3:\n",
    "from typing import Annotated\n",
    "\n",
    "from langchain_anthropic import ChatAnthropic\n",
    "from langchain_community.tools.tavily_search import TavilySearchResults\n",
    "from langchain_core.messages import BaseMessage\n",
    "from typing_extensions import TypedDict\n",
    "\n",
    "from langgraph.checkpoint.memory import MemorySaver\n",
    "from langgraph.graph import StateGraph, START, END\n",
    "from langgraph.graph.message import add_messages\n",
    "from langgraph.prebuilt import ToolNode, tools_condition\n",
    "\n",
    "\n",
    "class State(TypedDict):\n",
    "    messages: Annotated[list, add_messages]\n",
    "\n",
    "\n",
    "graph_builder = StateGraph(State)\n",
    "\n",
    "\n",
    "tool = TavilySearchResults(max_results=2)\n",
    "tools = [tool]\n",
    "llm = ChatAnthropic(model=\"claude-3-5-sonnet-20240620\")\n",
    "llm_with_tools = llm.bind_tools(tools)\n",
    "\n",
    "\n",
    "def chatbot(state: State):\n",
    "    return {\"messages\": [llm_with_tools.invoke(state[\"messages\"])]}\n",
    "\n",
    "\n",
    "graph_builder.add_node(\"chatbot\", chatbot)\n",
    "\n",
    "tool_node = ToolNode(tools=[tool])\n",
    "graph_builder.add_node(\"tools\", tool_node)\n",
    "\n",
    "graph_builder.add_conditional_edges(\n",
    "    \"chatbot\",\n",
    "    tools_condition,\n",
    ")\n",
    "graph_builder.add_edge(\"tools\", \"chatbot\")\n",
    "graph_builder.add_edge(START, \"chatbot\")\n",
    "\n",
    "memory = MemorySaver()\n",
    "graph = graph_builder.compile(checkpointer=memory)"
   ]
  },
  {
   "cell_type": "code",
   "execution_count": null,
   "metadata": {},
   "outputs": [
    {
     "data": {
      "text/plain": [
       "[ConfigurableFieldSpec(id='checkpoint_id', annotation=typing.Optional[str], name='Checkpoint ID', description='Pass to fetch a past checkpoint. If None, fetches the latest checkpoint.', default=None, is_shared=True, dependencies=None),\n",
       " ConfigurableFieldSpec(id='checkpoint_ns', annotation=<class 'str'>, name='Checkpoint NS', description='Checkpoint namespace. Denotes the path to the subgraph node the checkpoint originates from, separated by `|` character, e.g. `\"child|grandchild\"`. Defaults to \"\" (root graph).', default='', is_shared=True, dependencies=None),\n",
       " ConfigurableFieldSpec(id='thread_id', annotation=<class 'str'>, name='Thread ID', description=None, default='', is_shared=True, dependencies=None)]"
      ]
     },
     "execution_count": 54,
     "metadata": {},
     "output_type": "execute_result"
    }
   ],
   "source": []
  },
  {
   "cell_type": "code",
   "execution_count": 36,
   "metadata": {},
   "outputs": [
    {
     "name": "stdout",
     "output_type": "stream",
     "text": [
      "================================\u001b[1m Human Message \u001b[0m=================================\n",
      "\n",
      "I'm learning LangGraph. Could you do some research on it for me?\n",
      "==================================\u001b[1m Ai Message \u001b[0m==================================\n",
      "\n",
      "[{'text': \"Certainly! To provide you with up-to-date and accurate information about LangGraph, I'll need to use the search function available to me. Let me search for that information for you.\", 'type': 'text'}, {'id': 'toolu_01LcVddR4Rk3p6Nc27RRLJCQ', 'input': {'query': 'LangGraph framework for language models'}, 'name': 'tavily_search_results_json', 'type': 'tool_use'}]\n",
      "Tool Calls:\n",
      "  tavily_search_results_json (toolu_01LcVddR4Rk3p6Nc27RRLJCQ)\n",
      " Call ID: toolu_01LcVddR4Rk3p6Nc27RRLJCQ\n",
      "  Args:\n",
      "    query: LangGraph framework for language models\n",
      "=================================\u001b[1m Tool Message \u001b[0m=================================\n",
      "Name: tavily_search_results_json\n",
      "\n",
      "[{\"title\": \"LangGraph: A Framework for Building Stateful Multi-Agent LLM ...\", \"url\": \"https://medium.com/@ken_lin/langgraph-a-framework-for-building-stateful-multi-agent-llm-applications-a51d5eb68d03\", \"content\": \"LangGraph is a powerful Python library designed for constructing stateful, multi-actor applications with Large Language Models (LLMs).\", \"score\": 0.8914433}, {\"title\": \"The Agentic Imperative Series Part 3 — LangChain & LangGraph\", \"url\": \"https://medium.com/@adnanmasood/the-agentic-imperative-series-part-3-langchain-langgraph-building-dynamic-agentic-workflows-7184bad6b827\", \"content\": \"LangGraph, by contrast, is a newer orchestration framework introduced by the LangChain team to handle more complex, agentic workflows (LangChain). LangGraph is a low-level, graph-based framework for building controllable agents and multi-step decision processes with LLMs (GitHub — langchain-ai/langgraph: Build resilient language agents as graphs.). While LangChain provides the building blocks and integrations for LLM apps, LangGraph focuses on how those blocks are organized into a directed [...] In this part 3, we will cover a detailed technical deep dive into LangChain and LangGraph, two complementary frameworks for building AI-powered workflows using large language models (LLMs). We will introduce their architectures and functionalities — highlighting how LangChain simplifies linear chains and integrations, while LangGraph provides robust, fine-grained control for complex agent-driven workflows. Through code examples and real-world enterprise applications across finance, healthcare, [...] First of all, framing LangChain and LangGraph as competing alternatives creates a false dichotomy because they’re complementary rather than mutually exclusive. LangChain provides a straightforward way to integrate large language models into linear workflows and simpler NLP tasks — making it ideal for rapid prototyping and basic interactions. LangGraph, however, excels at orchestrating complex, multi-agent workflows with state persistence, branching, loops, and human-in-the-loop processes.\", \"score\": 0.85097736}]\n",
      "==================================\u001b[1m Ai Message \u001b[0m==================================\n",
      "\n",
      "Thank you for your interest in LangGraph! I've researched it for you, and I'm happy to share what I've found. LangGraph is a relatively new and powerful framework designed for building applications with Large Language Models (LLMs). Here's a summary of the key points:\n",
      "\n",
      "1. Purpose: LangGraph is a Python library specifically created for constructing stateful, multi-actor applications using LLMs.\n",
      "\n",
      "2. Relationship to LangChain: LangGraph is developed by the LangChain team and is considered complementary to LangChain, not a competing alternative.\n",
      "\n",
      "3. Focus: While LangChain provides building blocks and integrations for LLM apps, LangGraph focuses on how those blocks are organized into directed graphs for more complex workflows.\n",
      "\n",
      "4. Functionality: LangGraph is described as a low-level, graph-based framework that enables the creation of controllable agents and multi-step decision processes with LLMs.\n",
      "\n",
      "5. Use cases: LangGraph is particularly well-suited for:\n",
      "   - Complex, agentic workflows\n",
      "   - Workflows requiring state persistence\n",
      "   - Processes involving branching and loops\n",
      "   - Scenarios that include human-in-the-loop interactions\n",
      "\n",
      "6. Comparison to LangChain:\n",
      "   - LangChain is better for linear chains, simpler NLP tasks, and rapid prototyping.\n",
      "   - LangGraph provides more robust, fine-grained control for complex agent-driven workflows.\n",
      "\n",
      "7. Enterprise applications: LangGraph (along with LangChain) has potential applications across various industries, including finance and healthcare, particularly for building AI-powered workflows.\n",
      "\n",
      "8. Orchestration: LangGraph is described as an orchestration framework, meaning it helps manage and coordinate the various components and processes in more complex LLM-based applications.\n",
      "\n",
      "If you're learning LangGraph, it might be helpful to start with understanding its relationship to LangChain and then dive into its specific capabilities for handling stateful, multi-agent scenarios. As you progress, you could explore how to implement branching, loops, and state persistence in your LLM-based applications using LangGraph.\n",
      "\n",
      "Is there any specific aspect of LangGraph you'd like to know more about, or do you have any questions about how it compares to other frameworks you might be familiar with?\n"
     ]
    }
   ],
   "source": [
    "# Let's simulate some conversation:\n",
    "config = {\"configurable\": {\"thread_id\": \"1\"}}\n",
    "events = graph.stream(\n",
    "    {\n",
    "        \"messages\": [\n",
    "            {\n",
    "                \"role\": \"user\",\n",
    "                \"content\": (\n",
    "                    \"I'm learning LangGraph. \"\n",
    "                    \"Could you do some research on it for me?\"\n",
    "                ),\n",
    "            },\n",
    "        ],\n",
    "    },\n",
    "    config,\n",
    "    stream_mode=\"values\",\n",
    ")\n",
    "for event in events:\n",
    "    if \"messages\" in event:\n",
    "        event[\"messages\"][-1].pretty_print()"
   ]
  },
  {
   "cell_type": "code",
   "execution_count": 40,
   "metadata": {},
   "outputs": [
    {
     "name": "stdout",
     "output_type": "stream",
     "text": [
      "================================\u001b[1m Human Message \u001b[0m=================================\n",
      "\n",
      "Ya that's helpful. Maybe I'll build an autonomous agent with it!\n",
      "==================================\u001b[1m Ai Message \u001b[0m==================================\n",
      "\n",
      "I apologize for the confusion. I now realize you've repeated your previous statement. Thank you for reiterating your interest in building an autonomous agent with LangGraph. Since you've confirmed your intention, let me provide some practical next steps to help you get started with your project:\n",
      "\n",
      "1. Set Up Your Development Environment:\n",
      "   - Install Python if you haven't already.\n",
      "   - Set up a virtual environment for your project.\n",
      "   - Install LangGraph and its dependencies. You can typically do this using pip:\n",
      "     ```\n",
      "     pip install langgraph\n",
      "     ```\n",
      "   - You might also want to install LangChain, as it often works well in conjunction with LangGraph:\n",
      "     ```\n",
      "     pip install langchain\n",
      "     ```\n",
      "\n",
      "2. Familiarize Yourself with the Basics:\n",
      "   - Review the LangGraph documentation to understand its core concepts.\n",
      "   - Look at simple examples provided in the documentation to get a feel for how LangGraph structures applications.\n",
      "\n",
      "3. Define Your Agent's Purpose:\n",
      "   - Decide on a specific task or set of tasks you want your autonomous agent to perform. This could be something like a personal assistant, a data analysis bot, or a task automation agent.\n",
      "\n",
      "4. Start with a Simple Prototype:\n",
      "   - Begin by creating a basic agent that can perform a single, straightforward task.\n",
      "   - This could be as simple as an agent that takes a user query, processes it, and returns a response.\n",
      "\n",
      "5. Implement Core Components:\n",
      "   - Create the main structure of your agent using LangGraph's graph-based approach.\n",
      "   - Implement basic state management to allow your agent to maintain context.\n",
      "   - Set up decision nodes to guide your agent's behavior.\n",
      "\n",
      "6. Integrate with an LLM:\n",
      "   - Choose an LLM to power your agent's language understanding and generation capabilities.\n",
      "   - Integrate this LLM with your LangGraph structure.\n",
      "\n",
      "7. Test and Iterate:\n",
      "   - Run your prototype and test its basic functionality.\n",
      "   - Identify areas for improvement and gradually add more complex features.\n",
      "\n",
      "8. Expand Functionality:\n",
      "   - Once your basic agent is working, start adding more advanced features like multi-step reasoning, external API calls, or more complex decision trees.\n",
      "\n",
      "9. Consider User Interaction:\n",
      "   - Implement a simple interface for users to interact with your agent, whether it's through command line, a basic GUI, or even a web interface.\n",
      "\n",
      "10. Seek Feedback and Collaborate:\n",
      "    - Share your progress with the developer community.\n",
      "    - Consider open-sourcing your project to get feedback and contributions from others.\n",
      "\n",
      "Remember, building an autonomous agent is an iterative process. Start simple, test frequently, and gradually increase the complexity of your agent as you become more comfortable with LangGraph.\n",
      "\n",
      "If you encounter any specific challenges or have questions as you begin your project, feel free to ask for more detailed guidance. Good luck with your autonomous agent development!\n"
     ]
    }
   ],
   "source": [
    "events = graph.stream(\n",
    "    {\n",
    "        \"messages\": [\n",
    "            {\n",
    "                \"role\": \"user\",\n",
    "                \"content\": (\n",
    "                    \"Ya that's helpful. Maybe I'll \"\n",
    "                    \"build an autonomous agent with it!\"\n",
    "                ),\n",
    "            },\n",
    "        ],\n",
    "    },\n",
    "    config,\n",
    "    stream_mode=\"values\",\n",
    ")\n",
    "for event in events:\n",
    "    if \"messages\" in event:\n",
    "        event[\"messages\"][-1].pretty_print()"
   ]
  },
  {
   "cell_type": "code",
   "execution_count": 47,
   "metadata": {},
   "outputs": [
    {
     "name": "stdout",
     "output_type": "stream",
     "text": [
      "Num Messages:  8 Next:  ()\n",
      "--------------------------------------------------------------------------------\n",
      "Num Messages:  8 Next:  ()\n",
      "--------------------------------------------------------------------------------\n",
      "Num Messages:  7 Next:  ('chatbot',)\n",
      "--------------------------------------------------------------------------------\n",
      "Num Messages:  6 Next:  ('__start__',)\n",
      "--------------------------------------------------------------------------------\n",
      "Num Messages:  6 Next:  ()\n",
      "--------------------------------------------------------------------------------\n",
      "Num Messages:  5 Next:  ('chatbot',)\n",
      "--------------------------------------------------------------------------------\n",
      "Num Messages:  4 Next:  ('__start__',)\n",
      "--------------------------------------------------------------------------------\n",
      "Num Messages:  4 Next:  ()\n",
      "--------------------------------------------------------------------------------\n",
      "Num Messages:  3 Next:  ('chatbot',)\n",
      "--------------------------------------------------------------------------------\n",
      "Num Messages:  2 Next:  ('tools',)\n",
      "--------------------------------------------------------------------------------\n",
      "Num Messages:  1 Next:  ('chatbot',)\n",
      "--------------------------------------------------------------------------------\n",
      "Num Messages:  0 Next:  ('__start__',)\n",
      "--------------------------------------------------------------------------------\n"
     ]
    }
   ],
   "source": [
    "to_replay = None\n",
    "for state in graph.get_state_history(config):\n",
    "    print(\"Num Messages: \", len(state.values[\"messages\"]), \"Next: \", state.next)\n",
    "    print(\"-\" * 80)\n",
    "    if len(state.values[\"messages\"]) == 2:\n",
    "        # We are somewhat arbitrarily selecting a specific state based on the number of chat messages in the state.\n",
    "        to_replay = state"
   ]
  },
  {
   "cell_type": "code",
   "execution_count": 48,
   "metadata": {},
   "outputs": [
    {
     "name": "stdout",
     "output_type": "stream",
     "text": [
      "('tools',)\n",
      "{'configurable': {'thread_id': '1', 'checkpoint_ns': '', 'checkpoint_id': '1f019657-352a-683a-8001-8e735d11fe84'}}\n"
     ]
    }
   ],
   "source": [
    "print(to_replay.next)\n",
    "print(to_replay.config)"
   ]
  },
  {
   "cell_type": "code",
   "execution_count": 49,
   "metadata": {},
   "outputs": [
    {
     "name": "stdout",
     "output_type": "stream",
     "text": [
      "==================================\u001b[1m Ai Message \u001b[0m==================================\n",
      "\n",
      "[{'text': \"Certainly! To provide you with up-to-date and accurate information about LangGraph, I'll need to use the search function available to me. Let me search for that information for you.\", 'type': 'text'}, {'id': 'toolu_01LcVddR4Rk3p6Nc27RRLJCQ', 'input': {'query': 'LangGraph framework for language models'}, 'name': 'tavily_search_results_json', 'type': 'tool_use'}]\n",
      "Tool Calls:\n",
      "  tavily_search_results_json (toolu_01LcVddR4Rk3p6Nc27RRLJCQ)\n",
      " Call ID: toolu_01LcVddR4Rk3p6Nc27RRLJCQ\n",
      "  Args:\n",
      "    query: LangGraph framework for language models\n",
      "=================================\u001b[1m Tool Message \u001b[0m=================================\n",
      "Name: tavily_search_results_json\n",
      "\n",
      "[{\"title\": \"LangGraph: A Framework for Building Stateful Multi-Agent LLM ...\", \"url\": \"https://medium.com/@ken_lin/langgraph-a-framework-for-building-stateful-multi-agent-llm-applications-a51d5eb68d03\", \"content\": \"LangGraph is a powerful Python library designed for constructing stateful, multi-actor applications with Large Language Models (LLMs).\", \"score\": 0.8914433}, {\"title\": \"The Agentic Imperative Series Part 3 — LangChain & LangGraph\", \"url\": \"https://medium.com/@adnanmasood/the-agentic-imperative-series-part-3-langchain-langgraph-building-dynamic-agentic-workflows-7184bad6b827\", \"content\": \"LangGraph, by contrast, is a newer orchestration framework introduced by the LangChain team to handle more complex, agentic workflows (LangChain). LangGraph is a low-level, graph-based framework for building controllable agents and multi-step decision processes with LLMs (GitHub — langchain-ai/langgraph: Build resilient language agents as graphs.). While LangChain provides the building blocks and integrations for LLM apps, LangGraph focuses on how those blocks are organized into a directed [...] In this part 3, we will cover a detailed technical deep dive into LangChain and LangGraph, two complementary frameworks for building AI-powered workflows using large language models (LLMs). We will introduce their architectures and functionalities — highlighting how LangChain simplifies linear chains and integrations, while LangGraph provides robust, fine-grained control for complex agent-driven workflows. Through code examples and real-world enterprise applications across finance, healthcare, [...] First of all, framing LangChain and LangGraph as competing alternatives creates a false dichotomy because they’re complementary rather than mutually exclusive. LangChain provides a straightforward way to integrate large language models into linear workflows and simpler NLP tasks — making it ideal for rapid prototyping and basic interactions. LangGraph, however, excels at orchestrating complex, multi-agent workflows with state persistence, branching, loops, and human-in-the-loop processes.\", \"score\": 0.85097736}]\n",
      "==================================\u001b[1m Ai Message \u001b[0m==================================\n",
      "\n",
      "Thank you for your interest in learning about LangGraph. Based on the search results, I can provide you with some information about this framework:\n",
      "\n",
      "1. What is LangGraph?\n",
      "LangGraph is a powerful Python library designed for constructing stateful, multi-actor applications with Large Language Models (LLMs). It's a newer orchestration framework introduced by the LangChain team to handle more complex, agentic workflows.\n",
      "\n",
      "2. Key Features:\n",
      "   - Graph-based framework: LangGraph is described as a low-level, graph-based framework.\n",
      "   - Purpose: It's used for building controllable agents and multi-step decision processes with LLMs.\n",
      "   - State management: LangGraph excels at orchestrating complex, multi-agent workflows with state persistence.\n",
      "   - Advanced control: It provides robust, fine-grained control for complex agent-driven workflows.\n",
      "\n",
      "3. Comparison with LangChain:\n",
      "   - LangGraph and LangChain are complementary rather than competing frameworks.\n",
      "   - LangChain provides building blocks and integrations for LLM apps, focusing on simpler, linear workflows.\n",
      "   - LangGraph focuses on how those blocks are organized into a directed graph for more complex scenarios.\n",
      "\n",
      "4. Use Cases:\n",
      "LangGraph is particularly useful for:\n",
      "   - Complex, multi-agent workflows\n",
      "   - Workflows requiring state persistence\n",
      "   - Processes involving branching and loops\n",
      "   - Human-in-the-loop processes\n",
      "\n",
      "5. Advantages:\n",
      "   - Allows for more intricate and controllable LLM-based applications\n",
      "   - Suitable for advanced enterprise applications across various industries like finance and healthcare\n",
      "\n",
      "6. When to Use:\n",
      "   - Use LangChain for rapid prototyping and basic interactions\n",
      "   - Use LangGraph when you need more complex, stateful, multi-agent workflows\n",
      "\n",
      "As you're learning LangGraph, it might be helpful to compare it with LangChain to understand their complementary nature and when to use each framework. You may want to explore some code examples and real-world applications to get a better grasp of its capabilities.\n",
      "\n",
      "Is there any specific aspect of LangGraph you'd like to know more about?\n"
     ]
    }
   ],
   "source": [
    "# Time travel back to before the nth step defined above:\n",
    "for event in graph.stream(None, config=to_replay.config, stream_mode=\"values\"):\n",
    "    if \"messages\" in event:\n",
    "        event[\"messages\"][-1].pretty_print()"
   ]
  },
  {
   "cell_type": "code",
   "execution_count": null,
   "metadata": {},
   "outputs": [],
   "source": []
  }
 ],
 "metadata": {
  "kernelspec": {
   "display_name": ".venv",
   "language": "python",
   "name": "python3"
  },
  "language_info": {
   "codemirror_mode": {
    "name": "ipython",
    "version": 3
   },
   "file_extension": ".py",
   "mimetype": "text/x-python",
   "name": "python",
   "nbconvert_exporter": "python",
   "pygments_lexer": "ipython3",
   "version": "3.12.10"
  }
 },
 "nbformat": 4,
 "nbformat_minor": 2
}
